{
  "nbformat": 4,
  "nbformat_minor": 0,
  "metadata": {
    "colab": {
      "name": "Implementation.ipynb",
      "provenance": [],
      "include_colab_link": true
    },
    "kernelspec": {
      "name": "python3",
      "display_name": "Python 3"
    }
  },
  "cells": [
    {
      "cell_type": "markdown",
      "metadata": {
        "id": "view-in-github",
        "colab_type": "text"
      },
      "source": [
        "<a href=\"https://colab.research.google.com/github/lucasresck/FGV-EMAp/blob/master/Modeling%20Biological%20Phenomena/A1%20assignment/Implementation.ipynb\" target=\"_parent\"><img src=\"https://colab.research.google.com/assets/colab-badge.svg\" alt=\"Open In Colab\"/></a>"
      ]
    },
    {
      "cell_type": "markdown",
      "metadata": {
        "id": "pXzx2ZbmpK2l",
        "colab_type": "text"
      },
      "source": [
        "#Simulação computacional de processos evolutivos e seleção natural\n",
        "\n",
        "Existe um ambiente com vários indivíduos de certa espécie iniciados igualmente e várias comidas. As comidas são \"distribuídas\" aos indivíduos de maneira aleatória, de acordo com seu grau de adaptação, este afetada pelas suas características. Esses indivíduos têm característica de velocidade\n",
        "Cada indivíduo também tem energia, que indica em quantas \"rodadas\" de distribuição de comida eles poderão participar. A energia também é afetada pelas características.\n",
        "A cada dia, os indivíduos têm chance de conseguir 1 comida (e sobreviverem) ou 2 comidas (sobreviverem e se replicarem). Cada reprodução tem uma chance de mutação em cada característica."
      ]
    },
    {
      "cell_type": "code",
      "metadata": {
        "colab_type": "code",
        "outputId": "70e29e95-b108-4183-a280-ad1b156fcfac",
        "id": "R0mnqJUNmX0k",
        "colab": {
          "base_uri": "https://localhost:8080/",
          "height": 269
        }
      },
      "source": [
        "import random\n",
        "import time\n",
        "import matplotlib.pyplot as plt\n",
        "import statistics\n",
        "import numpy as np\n",
        "\n",
        "random.seed(time.time())\n",
        "\n",
        "class Environment:\n",
        "    def __init__(self, n, speed, nFood, mutation):\n",
        "        self.n = n\n",
        "        self.speed = speed\n",
        "        self.nFood = nFood\n",
        "        self.mutation = mutation\n",
        "        self.getIndividuals()\n",
        "        self.dataMean = []\n",
        "        self.dataVariance = []\n",
        "\n",
        "    def getIndividuals(self):\n",
        "        self.individuals = [Individual(speed = self.speed, nFood = self.nFood) for i in range(self.n)]\n",
        "\n",
        "    def run(self, days):\n",
        "        self.days = days\n",
        "        for day in range(days):\n",
        "            #print(day, len(self.individuals))\n",
        "\n",
        "            individualsThisDay = self.individuals.copy()\n",
        "            for epoch in range(self.nFood):  #Who entered here is guaranteed that has energy and is not full of food\n",
        "                for individual in individualsThisDay.copy():\n",
        "                    if individual.energy == epoch + 1 or individual.food == 2 or individual.energy == 0:\n",
        "                        individualsThisDay.remove(individual)\n",
        "                self.sortFood(individualsThisDay)\n",
        "            #count = 0\n",
        "            for individual in self.individuals.copy():\n",
        "                if individual.food == 0:\n",
        "                    #count += 1\n",
        "                    self.individuals.remove(individual)\n",
        "                elif individual.food == 2:\n",
        "                    self.reprodution(individual)\n",
        "                individual.food = 0\n",
        "            self.record()\n",
        "            \n",
        "    def sortFood(self, individualsThisDay):\n",
        "        sumFitness = 0\n",
        "        for individual in individualsThisDay:\n",
        "            sumFitness += individual.fitness\n",
        "        lucky = random.random()*sumFitness\n",
        "        for i, individual in enumerate(individualsThisDay):\n",
        "            if lucky < individual.fitness:\n",
        "                individual.food += 1\n",
        "                break\n",
        "            else:\n",
        "                lucky -= individual.fitness\n",
        "\n",
        "    def reprodution(self, individual):\n",
        "        dice = random.random()\n",
        "        newSpeed = individual.speed\n",
        "        if dice < self.mutation:\n",
        "            newSpeed += random.random()*2 - 1\n",
        "        self.individuals.append(Individual(speed = newSpeed, nFood = self.nFood))\n",
        "\n",
        "    def record(self):\n",
        "        self.dataMean.append(sum([individual.fitness for individual in self.individuals])/len(self.individuals))\n",
        "        self.dataVariance.append(statistics.variance([individual.fitness for individual in self.individuals]))\n",
        "        #print(self.data[-1])\n",
        "\n",
        "    def plot(self):\n",
        "        fig, (ax1, ax2) = plt.subplots(2, 1)\n",
        "        t = np.arange(0, self.days)\n",
        "        ax1.plot(t, self.dataMean)\n",
        "        ax2.plot(t, self.dataVariance)\n",
        "        plt.show()\n",
        "\n",
        "class Individual:\n",
        "    def __init__(self, speed, nFood):\n",
        "        self.speed = speed\n",
        "        self.nFood = nFood\n",
        "        self.energy = 2*self.nFood - speed**2  # A velocidade tem um custo para a energia\n",
        "        if self.energy < 0:\n",
        "            self.energy = 0\n",
        "        self.fitness = speed  # Fitness é o grau de adaptação de um indíviduo; quanto maior, melhor\n",
        "        self.food = 0\n",
        "\n",
        "env = Environment(n = 200, speed = 7, nFood = 120, mutation = 0.1)\n",
        "env.run(days = 700)\n",
        "env.plot()"
      ],
      "execution_count": 123,
      "outputs": [
        {
          "output_type": "display_data",
          "data": {
            "image/png": "[encoded data removed]",
            "text/plain": [
              "<Figure size 432x288 with 2 Axes>"
            ]
          },
          "metadata": {
            "tags": []
          }
        }
      ]
    },
    {
      "cell_type": "code",
      "metadata": {
        "id": "Wiru1UgQu8Pt",
        "colab_type": "code",
        "colab": {
          "base_uri": "https://localhost:8080/",
          "height": 51
        },
        "outputId": "56775150-3027-41e3-e057-cbb540bc6733"
      },
      "source": [
        ""
      ],
      "execution_count": 17,
      "outputs": [
        {
          "output_type": "execute_result",
          "data": {
            "text/plain": [
              "[<__main__.Individual at 0x7f097bacbcc0>,\n",
              " <__main__.Individual at 0x7f097bacbbe0>]"
            ]
          },
          "metadata": {
            "tags": []
          },
          "execution_count": 17
        }
      ]
    },
    {
      "cell_type": "code",
      "metadata": {
        "id": "hPNeRCDadSaT",
        "colab_type": "code",
        "colab": {}
      },
      "source": [
        ""
      ],
      "execution_count": 0,
      "outputs": []
    }
  ]
}