{
 "cells": [
  {
   "cell_type": "code",
   "execution_count": 183,
   "metadata": {},
   "outputs": [],
   "source": [
    "import matplotlib.pyplot as plt\n",
    "import seaborn as sns\n",
    "import models\n",
    "import random"
   ]
  },
  {
   "cell_type": "markdown",
   "metadata": {},
   "source": [
    "# Modelo Bak-Sneppen"
   ]
  },
  {
   "cell_type": "code",
   "execution_count": 184,
   "metadata": {},
   "outputs": [],
   "source": [
    "bak_sneppen = models.bak_sneppen(2000)"
   ]
  },
  {
   "cell_type": "code",
   "execution_count": 185,
   "metadata": {},
   "outputs": [
    {
     "data": {
      "image/png": "[encoded data removed]",
      "text/plain": [
       "<Figure size 432x288 with 1 Axes>"
      ]
     },
     "metadata": {
      "needs_background": "light"
     },
     "output_type": "display_data"
    }
   ],
   "source": [
    "sns.distplot(bak_sneppen, kde=False, bins=10, hist_kws=dict(edgecolor=\"black\", linewidth=1))\n",
    "plt.title(\"Histograma dos fitness\")\n",
    "plt.xlabel(\"Fitness\")\n",
    "plt.ylabel(\"Contagem\")\n",
    "plt.xlim([-0.05, 1.05])\n",
    "plt.show()"
   ]
  },
  {
   "cell_type": "markdown",
   "metadata": {},
   "source": [
    "## Hypothesis testing"
   ]
  },
  {
   "cell_type": "code",
   "execution_count": 186,
   "metadata": {},
   "outputs": [
    {
     "name": "stdout",
     "output_type": "stream",
     "text": [
      "c =  0.019385026372324088\n",
      "y =  0.6564970109976652\n",
      "H_0 not rejected\n"
     ]
    }
   ],
   "source": [
    "alpha = 0.05\n",
    "c = 1/3 * (1 - alpha**(1/50))\n",
    "print(\"c = \", c)\n",
    "x = random.sample(bak_sneppen, 50)\n",
    "y = min(x)\n",
    "print(\"y = \", y)\n",
    "if y < 2/3 - c or y > 2/3 + c:\n",
    "    print(\"H_0 rejected\")\n",
    "else:\n",
    "    print(\"H_0 not rejected\")"
   ]
  },
  {
   "cell_type": "markdown",
   "metadata": {},
   "source": [
    "# Modelo GMS"
   ]
  },
  {
   "cell_type": "markdown",
   "metadata": {},
   "source": [
    "## $p = 2/3$"
   ]
  },
  {
   "cell_type": "code",
   "execution_count": 187,
   "metadata": {},
   "outputs": [],
   "source": [
    "gms1 = models.gms(2/3, 100000)"
   ]
  },
  {
   "cell_type": "code",
   "execution_count": 188,
   "metadata": {},
   "outputs": [
    {
     "data": {
      "text/plain": [
       "33596"
      ]
     },
     "execution_count": 188,
     "metadata": {},
     "output_type": "execute_result"
    }
   ],
   "source": [
    "len(gms1)"
   ]
  },
  {
   "cell_type": "code",
   "execution_count": 189,
   "metadata": {},
   "outputs": [
    {
     "data": {
      "image/png": "[encoded data removed]",
      "text/plain": [
       "<Figure size 432x288 with 1 Axes>"
      ]
     },
     "metadata": {
      "needs_background": "light"
     },
     "output_type": "display_data"
    }
   ],
   "source": [
    "sns.distplot(gms1, kde=False, bins=8, hist_kws=dict(edgecolor=\"black\", linewidth=1))\n",
    "plt.title(\"Histograma dos fitness com p=2/3\")\n",
    "plt.xlabel(\"Fitness\")\n",
    "plt.ylabel(\"Contagem\")\n",
    "plt.xlim([-0.05, 1.05])\n",
    "plt.show()"
   ]
  },
  {
   "cell_type": "markdown",
   "metadata": {},
   "source": [
    "### Hypothesis testing"
   ]
  },
  {
   "cell_type": "code",
   "execution_count": 190,
   "metadata": {},
   "outputs": [
    {
     "name": "stdout",
     "output_type": "stream",
     "text": [
      "c =  0.029077539558486132\n",
      "y =  0.492763769729484\n",
      "H_0 not rejected\n"
     ]
    }
   ],
   "source": [
    "alpha = 0.05\n",
    "c = 1/2 * (1 - alpha**(1/50))\n",
    "print(\"c = \", c)\n",
    "x = random.sample(gms1, 50)\n",
    "y = min(x)\n",
    "print(\"y = \", y)\n",
    "if y < 1/2 - c or y > 1/2 + c:\n",
    "    print(\"H_0 rejected\")\n",
    "else:\n",
    "    print(\"H_0 not rejected\")"
   ]
  },
  {
   "cell_type": "markdown",
   "metadata": {},
   "source": [
    "## $p = 3/5$"
   ]
  },
  {
   "cell_type": "code",
   "execution_count": 191,
   "metadata": {},
   "outputs": [],
   "source": [
    "gms2 = models.gms(3/5, 100000)"
   ]
  },
  {
   "cell_type": "code",
   "execution_count": 192,
   "metadata": {},
   "outputs": [
    {
     "data": {
      "text/plain": [
       "19865"
      ]
     },
     "execution_count": 192,
     "metadata": {},
     "output_type": "execute_result"
    }
   ],
   "source": [
    "len(gms2)"
   ]
  },
  {
   "cell_type": "code",
   "execution_count": 195,
   "metadata": {},
   "outputs": [
    {
     "data": {
      "image/png": "[encoded data removed]",
      "text/plain": [
       "<Figure size 432x288 with 1 Axes>"
      ]
     },
     "metadata": {
      "needs_background": "light"
     },
     "output_type": "display_data"
    }
   ],
   "source": [
    "sns.distplot(gms2, kde=False, bins=7, hist_kws=dict(edgecolor=\"black\", linewidth=1))\n",
    "plt.title(\"Histograma dos fitness com p=3/5\")\n",
    "plt.xlabel(\"Fitness\")\n",
    "plt.ylabel(\"Contagem\")\n",
    "plt.xlim([-0.05, 1.05])\n",
    "plt.show()"
   ]
  },
  {
   "cell_type": "markdown",
   "metadata": {},
   "source": [
    "### Hypothesis testing"
   ]
  },
  {
   "cell_type": "code",
   "execution_count": 196,
   "metadata": {},
   "outputs": [
    {
     "name": "stdout",
     "output_type": "stream",
     "text": [
      "c =  0.019385026372324088\n",
      "y =  0.6723805265896714\n",
      "H_0 not rejected\n"
     ]
    }
   ],
   "source": [
    "alpha = 0.05\n",
    "c = 1/3 * (1 - alpha**(1/50))\n",
    "print(\"c = \", c)\n",
    "x = random.sample(gms2, 50)\n",
    "y = min(x)\n",
    "print(\"y = \", y)\n",
    "if y < 2/3 - c or y > 2/3 + c:\n",
    "    print(\"H_0 rejected\")\n",
    "else:\n",
    "    print(\"H_0 not rejected\")"
   ]
  },
  {
   "cell_type": "code",
   "execution_count": null,
   "metadata": {},
   "outputs": [],
   "source": []
  }
 ],
 "metadata": {
  "kernelspec": {
   "display_name": "Python 3",
   "language": "python",
   "name": "python3"
  },
  "language_info": {
   "codemirror_mode": {
    "name": "ipython",
    "version": 3
   },
   "file_extension": ".py",
   "mimetype": "text/x-python",
   "name": "python",
   "nbconvert_exporter": "python",
   "pygments_lexer": "ipython3",
   "version": "3.7.5"
  }
 },
 "nbformat": 4,
 "nbformat_minor": 2
}
